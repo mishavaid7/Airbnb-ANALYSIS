{
 "cells": [
  {
   "cell_type": "markdown",
   "id": "362b2556",
   "metadata": {},
   "source": [
    "# 🏡 💰 Who is putting their homes on AirBnb? 💰🏡"
   ]
  },
  {
   "cell_type": "markdown",
   "id": "3f4ee366",
   "metadata": {},
   "source": [
    "I've always been curious about the people who put up their homes on AirBnb in New York City. Who are these people? Why do they have so many houses? Let's get nosy. More broadly, I was interested in finding out how many people could potentially be doing it commercially, because then AirBnb is not the cute home-sharing platform it claims to be 😔 and is worsening the city's housing crisis 👎  "
   ]
  },
  {
   "cell_type": "markdown",
   "id": "14ca9d65",
   "metadata": {},
   "source": [
    "* The Data Source: http://insideairbnb.com/get-the-data.html \n",
    "*This data is sourced from publicly available information from the Airbnb site. I did not perform the scrape myself. "
   ]
  },
  {
   "cell_type": "markdown",
   "id": "176ccac7",
   "metadata": {},
   "source": [
    "### Let's start by looking at some rows and exploring the data a little bit"
   ]
  },
  {
   "cell_type": "code",
   "execution_count": 1,
   "id": "6e804214",
   "metadata": {},
   "outputs": [
    {
     "name": "stderr",
     "output_type": "stream",
     "text": [
      "/Users/misha/.pyenv/versions/3.10.0/lib/python3.10/site-packages/pandas/compat/__init__.py:124: UserWarning: Could not import the lzma module. Your installed Python is incomplete. Attempting to use lzma compression will result in a RuntimeError.\n",
      "  warnings.warn(msg)\n"
     ]
    },
    {
     "data": {
      "text/html": [
       "<div>\n",
       "<style scoped>\n",
       "    .dataframe tbody tr th:only-of-type {\n",
       "        vertical-align: middle;\n",
       "    }\n",
       "\n",
       "    .dataframe tbody tr th {\n",
       "        vertical-align: top;\n",
       "    }\n",
       "\n",
       "    .dataframe thead th {\n",
       "        text-align: right;\n",
       "    }\n",
       "</style>\n",
       "<table border=\"1\" class=\"dataframe\">\n",
       "  <thead>\n",
       "    <tr style=\"text-align: right;\">\n",
       "      <th></th>\n",
       "      <th>id</th>\n",
       "      <th>name</th>\n",
       "      <th>host_id</th>\n",
       "      <th>host_name</th>\n",
       "      <th>neighbourhood_group</th>\n",
       "      <th>neighbourhood</th>\n",
       "      <th>latitude</th>\n",
       "      <th>longitude</th>\n",
       "      <th>room_type</th>\n",
       "      <th>price</th>\n",
       "      <th>minimum_nights</th>\n",
       "      <th>number_of_reviews</th>\n",
       "      <th>last_review</th>\n",
       "      <th>reviews_per_month</th>\n",
       "      <th>calculated_host_listings_count</th>\n",
       "      <th>availability_365</th>\n",
       "      <th>number_of_reviews_ltm</th>\n",
       "      <th>license</th>\n",
       "    </tr>\n",
       "  </thead>\n",
       "  <tbody>\n",
       "    <tr>\n",
       "      <th>38182</th>\n",
       "      <td>54150715</td>\n",
       "      <td>Private PATIO in PRIVATE Room | 5mins to Manha...</td>\n",
       "      <td>340322917</td>\n",
       "      <td>Elizabeth</td>\n",
       "      <td>Brooklyn</td>\n",
       "      <td>Bedford-Stuyvesant</td>\n",
       "      <td>40.692611</td>\n",
       "      <td>-73.933902</td>\n",
       "      <td>Private room</td>\n",
       "      <td>61</td>\n",
       "      <td>13</td>\n",
       "      <td>0</td>\n",
       "      <td>NaN</td>\n",
       "      <td>NaN</td>\n",
       "      <td>1</td>\n",
       "      <td>365</td>\n",
       "      <td>0</td>\n",
       "      <td>NaN</td>\n",
       "    </tr>\n",
       "    <tr>\n",
       "      <th>38183</th>\n",
       "      <td>54152478</td>\n",
       "      <td>Center of Columbia University in UWS New York</td>\n",
       "      <td>438705539</td>\n",
       "      <td>Qingnan</td>\n",
       "      <td>Manhattan</td>\n",
       "      <td>Morningside Heights</td>\n",
       "      <td>40.804473</td>\n",
       "      <td>-73.963734</td>\n",
       "      <td>Private room</td>\n",
       "      <td>60</td>\n",
       "      <td>1</td>\n",
       "      <td>0</td>\n",
       "      <td>NaN</td>\n",
       "      <td>NaN</td>\n",
       "      <td>1</td>\n",
       "      <td>159</td>\n",
       "      <td>0</td>\n",
       "      <td>NaN</td>\n",
       "    </tr>\n",
       "    <tr>\n",
       "      <th>38184</th>\n",
       "      <td>54161645</td>\n",
       "      <td>Escape to Haven in Manhattan-West 57th Street-...</td>\n",
       "      <td>355450429</td>\n",
       "      <td>Mike</td>\n",
       "      <td>Manhattan</td>\n",
       "      <td>Midtown</td>\n",
       "      <td>40.764400</td>\n",
       "      <td>-73.977960</td>\n",
       "      <td>Entire home/apt</td>\n",
       "      <td>110</td>\n",
       "      <td>1</td>\n",
       "      <td>0</td>\n",
       "      <td>NaN</td>\n",
       "      <td>NaN</td>\n",
       "      <td>4</td>\n",
       "      <td>5</td>\n",
       "      <td>0</td>\n",
       "      <td>NaN</td>\n",
       "    </tr>\n",
       "  </tbody>\n",
       "</table>\n",
       "</div>"
      ],
      "text/plain": [
       "             id                                               name    host_id  \\\n",
       "38182  54150715  Private PATIO in PRIVATE Room | 5mins to Manha...  340322917   \n",
       "38183  54152478      Center of Columbia University in UWS New York  438705539   \n",
       "38184  54161645  Escape to Haven in Manhattan-West 57th Street-...  355450429   \n",
       "\n",
       "       host_name neighbourhood_group        neighbourhood   latitude  \\\n",
       "38182  Elizabeth            Brooklyn   Bedford-Stuyvesant  40.692611   \n",
       "38183    Qingnan           Manhattan  Morningside Heights  40.804473   \n",
       "38184       Mike           Manhattan              Midtown  40.764400   \n",
       "\n",
       "       longitude        room_type  price  minimum_nights  number_of_reviews  \\\n",
       "38182 -73.933902     Private room     61              13                  0   \n",
       "38183 -73.963734     Private room     60               1                  0   \n",
       "38184 -73.977960  Entire home/apt    110               1                  0   \n",
       "\n",
       "      last_review  reviews_per_month  calculated_host_listings_count  \\\n",
       "38182         NaN                NaN                               1   \n",
       "38183         NaN                NaN                               1   \n",
       "38184         NaN                NaN                               4   \n",
       "\n",
       "       availability_365  number_of_reviews_ltm license  \n",
       "38182               365                      0     NaN  \n",
       "38183               159                      0     NaN  \n",
       "38184                 5                      0     NaN  "
      ]
     },
     "execution_count": 1,
     "metadata": {},
     "output_type": "execute_result"
    }
   ],
   "source": [
    "import pandas as pd\n",
    "df = pd.read_csv('listings1.csv', low_memory=False)\n",
    "df.tail(3)"
   ]
  },
  {
   "cell_type": "markdown",
   "id": "0a53d696",
   "metadata": {},
   "source": [
    "### * Entire home listings are the most popular and can earn you more than shared or private room listings."
   ]
  },
  {
   "cell_type": "code",
   "execution_count": 2,
   "id": "17f04f0c",
   "metadata": {},
   "outputs": [
    {
     "data": {
      "text/html": [
       "<div>\n",
       "<style scoped>\n",
       "    .dataframe tbody tr th:only-of-type {\n",
       "        vertical-align: middle;\n",
       "    }\n",
       "\n",
       "    .dataframe tbody tr th {\n",
       "        vertical-align: top;\n",
       "    }\n",
       "\n",
       "    .dataframe thead tr th {\n",
       "        text-align: left;\n",
       "    }\n",
       "\n",
       "    .dataframe thead tr:last-of-type th {\n",
       "        text-align: right;\n",
       "    }\n",
       "</style>\n",
       "<table border=\"1\" class=\"dataframe\">\n",
       "  <thead>\n",
       "    <tr>\n",
       "      <th></th>\n",
       "      <th colspan=\"2\" halign=\"left\">price</th>\n",
       "    </tr>\n",
       "    <tr>\n",
       "      <th></th>\n",
       "      <th>mean</th>\n",
       "      <th>count</th>\n",
       "    </tr>\n",
       "    <tr>\n",
       "      <th>room_type</th>\n",
       "      <th></th>\n",
       "      <th></th>\n",
       "    </tr>\n",
       "  </thead>\n",
       "  <tbody>\n",
       "    <tr>\n",
       "      <th>Hotel room</th>\n",
       "      <td>237.07</td>\n",
       "      <td>209</td>\n",
       "    </tr>\n",
       "    <tr>\n",
       "      <th>Entire home/apt</th>\n",
       "      <td>210.97</td>\n",
       "      <td>20376</td>\n",
       "    </tr>\n",
       "    <tr>\n",
       "      <th>Shared room</th>\n",
       "      <td>150.48</td>\n",
       "      <td>566</td>\n",
       "    </tr>\n",
       "    <tr>\n",
       "      <th>Private room</th>\n",
       "      <td>96.80</td>\n",
       "      <td>17034</td>\n",
       "    </tr>\n",
       "  </tbody>\n",
       "</table>\n",
       "</div>"
      ],
      "text/plain": [
       "                  price       \n",
       "                   mean  count\n",
       "room_type                     \n",
       "Hotel room       237.07    209\n",
       "Entire home/apt  210.97  20376\n",
       "Shared room      150.48    566\n",
       "Private room      96.80  17034"
      ]
     },
     "execution_count": 2,
     "metadata": {},
     "output_type": "execute_result"
    }
   ],
   "source": [
    "df[['room_type','price']].groupby('room_type')\\\n",
    ".agg(['mean','count'])\\\n",
    ".sort_values(by=('price','mean'), ascending=False).round(2)"
   ]
  },
  {
   "cell_type": "markdown",
   "id": "7c0e4433",
   "metadata": {},
   "source": [
    "### * I used the data above for this viz: https://datawrapper.dwcdn.net/B3V0R/2/"
   ]
  },
  {
   "cell_type": "markdown",
   "id": "46c66c58",
   "metadata": {},
   "source": [
    "### * There are 38,185 unique listings and 25,574 hosts "
   ]
  },
  {
   "cell_type": "code",
   "execution_count": 4,
   "id": "d9e3e71c",
   "metadata": {},
   "outputs": [
    {
     "data": {
      "text/plain": [
       "38185"
      ]
     },
     "execution_count": 4,
     "metadata": {},
     "output_type": "execute_result"
    }
   ],
   "source": [
    "len(pd.unique(df['id']))"
   ]
  },
  {
   "cell_type": "code",
   "execution_count": 5,
   "id": "eb466863",
   "metadata": {},
   "outputs": [
    {
     "data": {
      "text/plain": [
       "25574"
      ]
     },
     "execution_count": 5,
     "metadata": {},
     "output_type": "execute_result"
    }
   ],
   "source": [
    "len(pd.unique(df['host_id']))"
   ]
  },
  {
   "cell_type": "markdown",
   "id": "6962c0ea",
   "metadata": {},
   "source": [
    "### * We are only interested in those hosts who have multiple ratings. Let's see what % of listings they control. The idea is to isolate each 'room_type' in the dataframe, and calculate what percentage of those listings are by those hosts who have more than one listing. And then you repeat!"
   ]
  },
  {
   "cell_type": "code",
   "execution_count": 16,
   "id": "0b120d6f",
   "metadata": {},
   "outputs": [],
   "source": [
    "entire_home = df[df.room_type == 'Entire home/apt']"
   ]
  },
  {
   "cell_type": "code",
   "execution_count": 18,
   "id": "d1116ee0",
   "metadata": {},
   "outputs": [
    {
     "data": {
      "text/plain": [
       "15588"
      ]
     },
     "execution_count": 18,
     "metadata": {},
     "output_type": "execute_result"
    }
   ],
   "source": [
    "len(pd.unique(entire_home['host_id']))"
   ]
  },
  {
   "cell_type": "code",
   "execution_count": 19,
   "id": "2714d283",
   "metadata": {},
   "outputs": [],
   "source": [
    "new_df = entire_home[entire_home.calculated_host_listings_count != 1]"
   ]
  },
  {
   "cell_type": "code",
   "execution_count": 22,
   "id": "d4ba5ed0",
   "metadata": {},
   "outputs": [
    {
     "data": {
      "text/plain": [
       "2211"
      ]
     },
     "execution_count": 22,
     "metadata": {},
     "output_type": "execute_result"
    }
   ],
   "source": [
    "len(pd.unique(new_df['host_id']))"
   ]
  },
  {
   "cell_type": "code",
   "execution_count": 23,
   "id": "132b9892",
   "metadata": {},
   "outputs": [
    {
     "data": {
      "text/plain": [
       "20376"
      ]
     },
     "execution_count": 23,
     "metadata": {},
     "output_type": "execute_result"
    }
   ],
   "source": [
    "len(pd.unique(entire_home['id']))"
   ]
  },
  {
   "cell_type": "code",
   "execution_count": 24,
   "id": "6745329a",
   "metadata": {},
   "outputs": [
    {
     "data": {
      "text/plain": [
       "6999"
      ]
     },
     "execution_count": 24,
     "metadata": {},
     "output_type": "execute_result"
    }
   ],
   "source": [
    "len(pd.unique(new_df['id']))"
   ]
  },
  {
   "cell_type": "code",
   "execution_count": 25,
   "id": "fa4191e9",
   "metadata": {},
   "outputs": [],
   "source": [
    "private_room = df[df.room_type == 'Private room']"
   ]
  },
  {
   "cell_type": "code",
   "execution_count": 28,
   "id": "12261ed7",
   "metadata": {},
   "outputs": [],
   "source": [
    "newer_df = private_room[private_room.calculated_host_listings_count != 1]"
   ]
  },
  {
   "cell_type": "code",
   "execution_count": 26,
   "id": "becc2b37",
   "metadata": {},
   "outputs": [
    {
     "data": {
      "text/plain": [
       "10543"
      ]
     },
     "execution_count": 26,
     "metadata": {},
     "output_type": "execute_result"
    }
   ],
   "source": [
    "len(pd.unique(private_room['host_id']))"
   ]
  },
  {
   "cell_type": "code",
   "execution_count": 29,
   "id": "30be9ebd",
   "metadata": {},
   "outputs": [
    {
     "data": {
      "text/plain": [
       "2662"
      ]
     },
     "execution_count": 29,
     "metadata": {},
     "output_type": "execute_result"
    }
   ],
   "source": [
    "len(pd.unique(newer_df['host_id']))"
   ]
  },
  {
   "cell_type": "code",
   "execution_count": 31,
   "id": "39d885ee",
   "metadata": {},
   "outputs": [
    {
     "data": {
      "text/plain": [
       "17034"
      ]
     },
     "execution_count": 31,
     "metadata": {},
     "output_type": "execute_result"
    }
   ],
   "source": [
    "len(pd.unique(private_room['id']))"
   ]
  },
  {
   "cell_type": "code",
   "execution_count": 32,
   "id": "51da46c1",
   "metadata": {},
   "outputs": [
    {
     "data": {
      "text/plain": [
       "9153"
      ]
     },
     "execution_count": 32,
     "metadata": {},
     "output_type": "execute_result"
    }
   ],
   "source": [
    "len(pd.unique(newer_df['id']))"
   ]
  },
  {
   "cell_type": "code",
   "execution_count": 33,
   "id": "1e19b708",
   "metadata": {},
   "outputs": [],
   "source": [
    "hotel_room = df[df.room_type == 'Hotel room']"
   ]
  },
  {
   "cell_type": "code",
   "execution_count": 35,
   "id": "931f738b",
   "metadata": {},
   "outputs": [],
   "source": [
    "newest_df = hotel_room[hotel_room.calculated_host_listings_count != 1]"
   ]
  },
  {
   "cell_type": "code",
   "execution_count": 36,
   "id": "d8e228ba",
   "metadata": {},
   "outputs": [
    {
     "data": {
      "text/plain": [
       "73"
      ]
     },
     "execution_count": 36,
     "metadata": {},
     "output_type": "execute_result"
    }
   ],
   "source": [
    "len(pd.unique(hotel_room['host_id']))"
   ]
  },
  {
   "cell_type": "code",
   "execution_count": 37,
   "id": "029233c8",
   "metadata": {},
   "outputs": [
    {
     "data": {
      "text/plain": [
       "32"
      ]
     },
     "execution_count": 37,
     "metadata": {},
     "output_type": "execute_result"
    }
   ],
   "source": [
    "len(pd.unique(newest_df['host_id']))"
   ]
  },
  {
   "cell_type": "code",
   "execution_count": 38,
   "id": "8f51a7b5",
   "metadata": {},
   "outputs": [
    {
     "data": {
      "text/plain": [
       "209"
      ]
     },
     "execution_count": 38,
     "metadata": {},
     "output_type": "execute_result"
    }
   ],
   "source": [
    "len(pd.unique(hotel_room['id']))"
   ]
  },
  {
   "cell_type": "code",
   "execution_count": 39,
   "id": "4fab84ce",
   "metadata": {},
   "outputs": [
    {
     "data": {
      "text/plain": [
       "168"
      ]
     },
     "execution_count": 39,
     "metadata": {},
     "output_type": "execute_result"
    }
   ],
   "source": [
    "len(pd.unique(newest_df['id']))"
   ]
  },
  {
   "cell_type": "code",
   "execution_count": 40,
   "id": "06ca643e",
   "metadata": {},
   "outputs": [],
   "source": [
    "shared_room = df[df.room_type == 'Shared room']"
   ]
  },
  {
   "cell_type": "code",
   "execution_count": 41,
   "id": "15bf0de2",
   "metadata": {},
   "outputs": [],
   "source": [
    "old_df = shared_room[shared_room.calculated_host_listings_count != 1]"
   ]
  },
  {
   "cell_type": "code",
   "execution_count": 42,
   "id": "19b6b69a",
   "metadata": {},
   "outputs": [
    {
     "data": {
      "text/plain": [
       "404"
      ]
     },
     "execution_count": 42,
     "metadata": {},
     "output_type": "execute_result"
    }
   ],
   "source": [
    "len(pd.unique(shared_room['host_id']))"
   ]
  },
  {
   "cell_type": "code",
   "execution_count": 43,
   "id": "0651f2ee",
   "metadata": {},
   "outputs": [
    {
     "data": {
      "text/plain": [
       "160"
      ]
     },
     "execution_count": 43,
     "metadata": {},
     "output_type": "execute_result"
    }
   ],
   "source": [
    "len(pd.unique(old_df['host_id']))"
   ]
  },
  {
   "cell_type": "code",
   "execution_count": 44,
   "id": "e8df78cb",
   "metadata": {},
   "outputs": [
    {
     "data": {
      "text/plain": [
       "566"
      ]
     },
     "execution_count": 44,
     "metadata": {},
     "output_type": "execute_result"
    }
   ],
   "source": [
    "len(pd.unique(shared_room['id']))"
   ]
  },
  {
   "cell_type": "code",
   "execution_count": 46,
   "id": "1e4bbc6d",
   "metadata": {},
   "outputs": [
    {
     "data": {
      "text/plain": [
       "322"
      ]
     },
     "execution_count": 46,
     "metadata": {},
     "output_type": "execute_result"
    }
   ],
   "source": [
    "len(pd.unique(old_df['id']))"
   ]
  },
  {
   "cell_type": "markdown",
   "id": "1ce2dab0",
   "metadata": {},
   "source": [
    "### * I used the data above for this viz: https://datawrapper.dwcdn.net/G2nDr/1/ "
   ]
  }
 ],
 "metadata": {
  "kernelspec": {
   "display_name": "Python 3 (ipykernel)",
   "language": "python",
   "name": "python3"
  },
  "language_info": {
   "codemirror_mode": {
    "name": "ipython",
    "version": 3
   },
   "file_extension": ".py",
   "mimetype": "text/x-python",
   "name": "python",
   "nbconvert_exporter": "python",
   "pygments_lexer": "ipython3",
   "version": "3.10.0"
  }
 },
 "nbformat": 4,
 "nbformat_minor": 5
}
