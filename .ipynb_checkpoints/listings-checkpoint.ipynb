{
 "cells": [
  {
   "cell_type": "markdown",
   "id": "362b2556",
   "metadata": {},
   "source": [
    "# 🏡 💰 Who is putting their homes on AirBnb? 💰🏡"
   ]
  },
  {
   "cell_type": "markdown",
   "id": "3f4ee366",
   "metadata": {},
   "source": [
    "I've always been curious about the people who put up their homes on AirBnb in New York City. Who are these people? How many houses do they have? Let's get nosy. More broadly, I was interested in finding out how many people are doing it commercially, coz then AirBnb is not the cute home-sharing platform it claims to be 😔 and is worsening the city's housing crisis 👎  "
   ]
  },
  {
   "cell_type": "markdown",
   "id": "14ca9d65",
   "metadata": {},
   "source": [
    "* The Data Source: http://insideairbnb.com/get-the-data.html \n",
    "*This data is sourced from publicly available information from the Airbnb site. I did not perform the scrape myself :("
   ]
  },
  {
   "cell_type": "code",
   "execution_count": null,
   "id": "fe974b95",
   "metadata": {},
   "outputs": [],
   "source": []
  }
 ],
 "metadata": {
  "kernelspec": {
   "display_name": "Python 3 (ipykernel)",
   "language": "python",
   "name": "python3"
  },
  "language_info": {
   "codemirror_mode": {
    "name": "ipython",
    "version": 3
   },
   "file_extension": ".py",
   "mimetype": "text/x-python",
   "name": "python",
   "nbconvert_exporter": "python",
   "pygments_lexer": "ipython3",
   "version": "3.10.0"
  }
 },
 "nbformat": 4,
 "nbformat_minor": 5
}
